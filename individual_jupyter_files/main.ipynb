{
 "cells": [
  {
   "cell_type": "code",
   "execution_count": null,
   "metadata": {},
   "outputs": [],
   "source": [
    "# !pip install jupyter_bokeh\n",
    "import pandas as pd\n",
    "import hvplot.pandas\n",
    "import matplotlib.pyplot as plt\n",
    "import scipy.stats as st\n",
    "from sklearn.linear_model import LinearRegression\n",
    "\n",
    "csv_file = 'Resources/pend-gdis-1960-2018-disasterlocations.csv'"
   ]
  },
  {
   "cell_type": "code",
   "execution_count": null,
   "metadata": {},
   "outputs": [],
   "source": [
    "# Andy\n",
    "df = pd.read_csv(csv_file)\n",
    "df.head()"
   ]
  },
  {
   "cell_type": "code",
   "execution_count": null,
   "metadata": {},
   "outputs": [],
   "source": [
    "# Riley\n",
    "# Creation of clean data frame\n",
    "\n",
    "clean_df = df[['id','country','year','level','location','disastertype','disasterno','latitude','longitude']]\n",
    "clean_df.head()"
   ]
  },
  {
   "cell_type": "code",
   "execution_count": null,
   "metadata": {},
   "outputs": [],
   "source": [
    "# Andy\n",
    "countries_df = df.groupby(['disastertype'])['level'].count()\n",
    "countries_df"
   ]
  },
  {
   "cell_type": "code",
   "execution_count": null,
   "metadata": {},
   "outputs": [],
   "source": [
    "# Riley\n",
    "disaster_count_df = df.groupby(['level','disasterno']).size()\n",
    "disaster_count_df"
   ]
  },
  {
   "cell_type": "code",
   "execution_count": null,
   "metadata": {},
   "outputs": [],
   "source": [
    "# Riley\n",
    "\n",
    "# Creation of bar graph showcasing different levels\n",
    "disaster_count_df = df.groupby(['level','disasterno'])\n",
    "disaster_count_df.plot(kind = 'bar', title = 'Natural Disasters by Level from 1960 to 2018', xlabel = 'Level', ylabel = 'Natural Disasters',color = ['red','blue','green'])\n",
    "plt.xticks(rotation='horizontal')\n",
    "plt.show()\n"
   ]
  },
  {
   "cell_type": "code",
   "execution_count": null,
   "metadata": {},
   "outputs": [],
   "source": [
    "# Andy\n",
    "decades = df\n",
    "\n",
    "bins = [1960,1970,1980,1990,2000,2010,2020]\n",
    "group_names = ['1960s','1970s','1980s','1990s','2000s','2010s']\n",
    "\n",
    "decades['decade'] = pd.cut(df['year'],\n",
    "                           bins, labels=group_names, \n",
    "                           include_lowest=True)\n",
    "decades.head()\n"
   ]
  },
  {
   "cell_type": "code",
   "execution_count": null,
   "metadata": {},
   "outputs": [],
   "source": [
    "# Andy\n",
    "floods = df.loc[df['disastertype'] == 'flood']\n",
    "floods.head()"
   ]
  },
  {
   "cell_type": "code",
   "execution_count": null,
   "metadata": {},
   "outputs": [],
   "source": [
    "# Andy\n",
    "floods_w_decades = decades.loc[decades['disastertype'] == 'flood']\n",
    "floods_by_decades = decades.groupby('decade')['id'].count()\n",
    "floods_by_decades"
   ]
  },
  {
   "cell_type": "code",
   "execution_count": null,
   "metadata": {},
   "outputs": [],
   "source": [
    "# Andy\n",
    "def geo_plot_by_decade(df, decade):\n",
    "    points_to_chart = df.loc[df['decade'] == decade]\n",
    "# Create the map plot\n",
    "    map_plot = points_to_chart.hvplot.points(\n",
    "        \"longitude\",\n",
    "        \"latitude\",\n",
    "        # Configure the map plot\n",
    "        geo=\"True\", # show geo data\n",
    "        tiles=\"OSM\",  # OpenStreetMap tiles\n",
    "        frame_width=700,\n",
    "        frame_height=500,\n",
    "        size='level',  # Size of the points determined by Humidity\n",
    "        color=\"decade\",  # Color by city\n",
    "        scale=1\n",
    "    )\n",
    "\n",
    "    # Display the map\n",
    "    return map_plot"
   ]
  },
  {
   "cell_type": "code",
   "execution_count": null,
   "metadata": {},
   "outputs": [],
   "source": [
    "# Andy\n",
    "floods_w_decades = floods_w_decades.sort_values('decade')\n",
    "geo_plot_by_decade(floods_w_decades, '1960s')\n"
   ]
  },
  {
   "cell_type": "code",
   "execution_count": null,
   "metadata": {},
   "outputs": [],
   "source": [
    "geo_plot_by_decade(floods_w_decades, '1970s')"
   ]
  },
  {
   "cell_type": "code",
   "execution_count": null,
   "metadata": {},
   "outputs": [],
   "source": [
    "geo_plot_by_decade(floods_w_decades, '1980s')"
   ]
  },
  {
   "cell_type": "code",
   "execution_count": null,
   "metadata": {},
   "outputs": [],
   "source": [
    "geo_plot_by_decade(floods_w_decades, '1990s')"
   ]
  },
  {
   "cell_type": "code",
   "execution_count": null,
   "metadata": {},
   "outputs": [],
   "source": [
    "geo_plot_by_decade(floods_w_decades, '2000s')"
   ]
  },
  {
   "cell_type": "code",
   "execution_count": null,
   "metadata": {},
   "outputs": [],
   "source": [
    "geo_plot_by_decade(floods_w_decades, '2010s')"
   ]
  },
  {
   "cell_type": "code",
   "execution_count": null,
   "metadata": {},
   "outputs": [],
   "source": [
    "# Andy\n",
    "# %%capture --no-display\n",
    "points_to_chart = floods_w_decades\n",
    "# Create the map plot\n",
    "map_plot_floods = points_to_chart.hvplot.points(\n",
    "    \"longitude\",\n",
    "    \"latitude\",\n",
    "    # Configure the map plot\n",
    "    geo=\"True\", # show geo data\n",
    "    tiles=\"OSM\",  # OpenStreetMap tiles\n",
    "    frame_width=700,\n",
    "    frame_height=500,\n",
    "    size='level',  # Size of the points determined by Humidity\n",
    "    color=\"year\",  # Color by city\n",
    "    scale=1\n",
    ")\n",
    "\n",
    "# Display the map\n",
    "map_plot_floods"
   ]
  },
  {
   "cell_type": "code",
   "execution_count": null,
   "metadata": {},
   "outputs": [],
   "source": [
    "# Andy\n",
    "# %%capture --no-display\n",
    "points_to_chart = floods_w_decades.loc[floods_w_decades['decade'] == '1970s']\n",
    "# Create the map plot\n",
    "map_plot_floods = points_to_chart.hvplot.points(\n",
    "    \"longitude\",\n",
    "    \"latitude\",\n",
    "    # Configure the map plot\n",
    "    geo=\"True\", # show geo data\n",
    "    tiles=\"OSM\",  # OpenStreetMap tiles\n",
    "    frame_width=700,\n",
    "    frame_height=500,\n",
    "    size='level',  # Size of the points determined by Humidity\n",
    "    color=\"decade\",  # Color by city\n",
    "    scale=1\n",
    ")\n",
    "\n",
    "# Display the map\n",
    "map_plot_floods"
   ]
  },
  {
   "cell_type": "code",
   "execution_count": null,
   "metadata": {},
   "outputs": [],
   "source": [
    "# Andy\n",
    "storms = df.loc[df['disastertype'] == 'storm']\n",
    "storms_w_decades = decades.loc[decades['disastertype'] == 'storm']\n",
    "storms_by_decades = decades.groupby('decade')['id'].count()\n",
    "storms_by_decades"
   ]
  },
  {
   "cell_type": "code",
   "execution_count": null,
   "metadata": {},
   "outputs": [],
   "source": [
    "# Andy\n",
    "# %%capture --no-display\n",
    "points_to_chart = storms_w_decades.loc[storms_w_decades['decade'] == '2010s']\n",
    "# Create the map plot\n",
    "map_plot_floods = points_to_chart.hvplot.points(\n",
    "    \"longitude\",\n",
    "    \"latitude\",\n",
    "    # Configure the map plot\n",
    "    geo=\"True\", # show geo data\n",
    "    tiles=\"OSM\",  # OpenStreetMap tiles\n",
    "    frame_width=700,\n",
    "    frame_height=500,\n",
    "    size='level',  # Size of the points determined by Humidity\n",
    "    color=\"year\",  # Color by city\n",
    "    scale=1\n",
    ")\n",
    "\n",
    "# Display the map\n",
    "map_plot_floods"
   ]
  },
  {
   "cell_type": "code",
   "execution_count": null,
   "metadata": {},
   "outputs": [],
   "source": [
    "# Riley\n",
    "def geo_plot_by_decade2(df):\n",
    "    #points_to_chart = df.loc[df['disastertype'] == disastertype]\n",
    "    # Create the map plot\n",
    "    map_plot = df.hvplot.points(\n",
    "        \"longitude\",\n",
    "        \"latitude\",\n",
    "        # Configure the map plot\n",
    "        geo=\"True\", # show geo data\n",
    "        tiles=\"OSM\",  # OpenStreetMap tiles\n",
    "        frame_width=700,\n",
    "        frame_height=500,\n",
    "        size='level',  # Size of the points determined by Humidity\n",
    "        color=\"decade\",  # Color by city\n",
    "        scale=1,\n",
    "        xlim=(-180, 180),  \n",
    "        ylim=(-75, 75),\n",
    "        groupby=['decade', 'disastertype']\n",
    "    )\n",
    "\n",
    "    # Display the map\n",
    "    return map_plot"
   ]
  },
  {
   "cell_type": "code",
   "execution_count": null,
   "metadata": {},
   "outputs": [],
   "source": [
    "# Riley\n",
    "geo_plot_by_decade2(decades)"
   ]
  },
  {
   "cell_type": "code",
   "execution_count": null,
   "metadata": {},
   "outputs": [],
   "source": [
    "# Andy\n",
    "\n",
    "floods_df = pd.DataFrame(clean_df.loc[clean_df['disastertype'] == 'flood', 'year'])\n",
    "floods_df"
   ]
  },
  {
   "cell_type": "code",
   "execution_count": null,
   "metadata": {},
   "outputs": [],
   "source": [
    "floods_by_year = floods_df.groupby('year').value_counts()\n",
    "fby_df = pd.DataFrame(floods_by_year).reset_index()\n",
    "# fby_df = fby_df.T\n",
    "fby_df"
   ]
  },
  {
   "cell_type": "code",
   "execution_count": null,
   "metadata": {},
   "outputs": [],
   "source": [
    "# Define a function to create Linear Regression plots\n",
    "\n",
    "def plot_linear_regression(x, y): #, xlabel, ylabel, title): #, hemisphere):\n",
    "    # Set data ranges forformatting plots \n",
    "    xlabel = \"\"\n",
    "    ylabel = \"\"\n",
    "    title = \"\"\n",
    "    # Force the x axis to have the same range for easy comparison\n",
    "    # if hemisphere == 'north': # Northern Hemisphere\n",
    "    x_min = 1960\n",
    "    x_max = 2018\n",
    "    # elif hemisphere == 'south': # Southern Hemisphere\n",
    "    #     x_min = -80\n",
    "    #     x_max = 0\n",
    "        \n",
    "    x_range = x_max - x_min\n",
    "    y_min = min(y)\n",
    "    y_max = max(y)\n",
    "    y_range = y_max - y_min\n",
    "    \n",
    "    # Calc regression\n",
    "    (slope, intercept, rvalue, pvalue, stderr) = st.linregress(x, y)\n",
    "    # Calc regress values for y values on line \n",
    "    regress_values = x * slope + intercept\n",
    "    # Format regression equation for display\n",
    "    line_eq = \"y = \" + str(round(slope,2)) + \"x + \" + str(round(intercept,2))\n",
    "    \n",
    "    # Print the r^2 value\n",
    "    print(f'The r^2-value is: {rvalue**2}')\n",
    "    \n",
    "    # plot the regression\n",
    "    plt.plot(x,regress_values,\"r-\")\n",
    "    plt.annotate(line_eq,\n",
    "                 (x_min+x_range*0.05,y_max+y_range*0.1),\n",
    "                 fontsize=15,\n",
    "                 color=\"red\")\n",
    "   \n",
    "    # plot the data\n",
    "    plt.scatter(x, y)\n",
    "    \n",
    "    # Format plt\n",
    "    plt.axis([x_min-x_range*0.05, \n",
    "              x_max+x_range*0.05, \n",
    "              y_min-y_range*0.05, \n",
    "              y_max+y_range*0.2])\n",
    "    plt.title(f'{title}')\n",
    "    plt.xlabel(xlabel)\n",
    "    plt.ylabel(ylabel)\n",
    "    plt.grid(True)\n",
    "    # Show plot\n",
    "    plt.show()"
   ]
  },
  {
   "cell_type": "code",
   "execution_count": null,
   "metadata": {},
   "outputs": [],
   "source": [
    "x = fby_df['year']\n",
    "y = fby_df['count']\n",
    "\n",
    "plot_linear_regression(x, y)\n",
    "    # xlabel,\n",
    "    # ylabel,\n",
    "    # title)\n"
   ]
  },
  {
   "cell_type": "code",
   "execution_count": null,
   "metadata": {},
   "outputs": [],
   "source": [
    "floods_2024_prediction = 16.29*2024 - 32097.5\n",
    "floods_2024_prediction"
   ]
  },
  {
   "cell_type": "code",
   "execution_count": null,
   "metadata": {},
   "outputs": [],
   "source": []
  }
 ],
 "metadata": {
  "kernelspec": {
   "display_name": "Python 3 (ipykernel)",
   "language": "python",
   "name": "python3"
  },
  "language_info": {
   "codemirror_mode": {
    "name": "ipython",
    "version": 3
   },
   "file_extension": ".py",
   "mimetype": "text/x-python",
   "name": "python",
   "nbconvert_exporter": "python",
   "pygments_lexer": "ipython3",
   "version": "3.12.4"
  }
 },
 "nbformat": 4,
 "nbformat_minor": 4
}
