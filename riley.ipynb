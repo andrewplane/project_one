{
 "cells": [
  {
   "cell_type": "markdown",
   "metadata": {},
   "source": [
    "The data set encompasses 39,953 locations for 9,924 disasters that occurred worldwide in the years 1960 to 2018. All floods, storms (typhoons, monsoons etc.), earthquakes, landslides, droughts, volcanic activity and extreme temperatures that were recorded in EM-DAT during these 58 years and could be geocoded are included in the data set. The highest spatial resolution in the data set corresponds to administrative level 3 (usually district/commune/village) in the Global Administrative Areas database (GADM, 2018). The vast majority of the locations are administrative level 1 (typically state/province/region)."
   ]
  },
  {
   "cell_type": "markdown",
   "metadata": {},
   "source": [
    "# !pip install jupyter_bokeh\n",
    "import pandas as pd\n",
    "import hvplot.pandas\n",
    "import matplotlib.pyplot as plt\n",
    "import scipy.stats as st\n",
    "from sklearn.linear_model import LinearRegression\n",
    "\n",
    "csv_file = 'Resources/pend-gdis-1960-2018-disasterlocations.csv'"
   ]
  },
  {
   "cell_type": "markdown",
   "metadata": {},
   "source": [
    "# Andy\n",
    "df = pd.read_csv(csv_file)\n",
    "df.head()"
   ]
  },
  {
   "cell_type": "code",
   "execution_count": null,
   "metadata": {},
   "outputs": [],
   "source": [
    "# Riley\n",
    "# Creation of clean data frame\n",
    "\n",
    "clean_df = df[['id','country','year','level','location','disastertype','disasterno','latitude','longitude']]\n",
    "clean_df.head()"
   ]
  },
  {
   "cell_type": "code",
   "execution_count": null,
   "metadata": {},
   "outputs": [],
   "source": [
    "# Riley\n",
    "disaster_count_df = clean_df.drop_duplicates(subset = ['id']).groupby(['level'])['disastertype'].count()\n",
    "disaster_count_df.head()"
   ]
  },
  {
   "cell_type": "code",
   "execution_count": null,
   "metadata": {},
   "outputs": [],
   "source": [
    "# Riley\n",
    "\n",
    "# Creation of bar graph showcasing different levels\n",
    "disaster_count_df.plot(kind = 'bar', title = 'Natural Disasters by Level from 1960 to 2018', xlabel = 'Level', ylabel = 'Natural Disasters',color = ['red','blue','green'])\n",
    "plt.xticks(rotation='horizontal')\n",
    "plt.show()\n",
    "\n"
   ]
  },
  {
   "cell_type": "code",
   "execution_count": null,
   "metadata": {},
   "outputs": [],
   "source": [
    "# Andy\n",
    "decades = df\n",
    "\n",
    "bins = [1960,1970,1980,1990,2000,2010,2020]\n",
    "group_names = ['1960s','1970s','1980s','1990s','2000s','2010s']\n",
    "\n",
    "decades['decade'] = pd.cut(df['year'],\n",
    "                           bins, labels=group_names, \n",
    "                           include_lowest=True)\n",
    "decades.head()\n"
   ]
  },
  {
   "cell_type": "code",
   "execution_count": null,
   "metadata": {},
   "outputs": [],
   "source": [
    "# Riley\n",
    "def geo_plot_by_decade2(df):\n",
    "    #points_to_chart = df.loc[df['disastertype'] == disastertype]\n",
    "    # Create the map plot\n",
    "    map_plot = df.hvplot.points(\n",
    "        \"longitude\",\n",
    "        \"latitude\",\n",
    "        # Configure the map plot\n",
    "        geo=\"True\", # show geo data\n",
    "        tiles=\"OSM\",  # OpenStreetMap tiles\n",
    "        frame_width=700,\n",
    "        frame_height=500,\n",
    "        size='level',  # Size of the points determined by Humidity\n",
    "        color=\"decade\",  # Color by city\n",
    "        scale=1,\n",
    "        xlim=(-180, 180),  \n",
    "        ylim=(-75, 75),\n",
    "        groupby=['decade', 'disastertype']\n",
    "    )\n",
    "\n",
    "    # Display the map\n",
    "    return map_plot"
   ]
  },
  {
   "cell_type": "code",
   "execution_count": null,
   "metadata": {},
   "outputs": [],
   "source": [
    "# Riley\n",
    "geo_plot_by_decade2(decades)"
   ]
  },
  {
   "cell_type": "code",
   "execution_count": null,
   "metadata": {},
   "outputs": [],
   "source": []
  }
 ],
 "metadata": {
  "kernelspec": {
   "display_name": "Python 3 (ipykernel)",
   "language": "python",
   "name": "python3"
  },
  "language_info": {
   "codemirror_mode": {
    "name": "ipython",
    "version": 3
   },
   "file_extension": ".py",
   "mimetype": "text/x-python",
   "name": "python",
   "nbconvert_exporter": "python",
   "pygments_lexer": "ipython3",
   "version": "3.10.15"
  }
 },
 "nbformat": 4,
 "nbformat_minor": 4
}
