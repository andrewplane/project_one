{
 "cells": [
  {
   "cell_type": "code",
   "execution_count": 1,
   "metadata": {},
   "outputs": [],
   "source": [
    "# Dependencies and Setup\n",
    "import matplotlib.pyplot as plt\n",
    "import pandas as pd\n",
    "import numpy as np\n",
    "import requests\n",
    "import time\n",
    "import json\n",
    "from scipy.stats import linregress\n",
    "from pprint import pprint\n",
    "\n",
    "from config import ambee_api_key"
   ]
  },
  {
   "cell_type": "code",
   "execution_count": 7,
   "metadata": {},
   "outputs": [],
   "source": [
    "# Test operations of Ambee\n",
    "\n",
    "# import http.client\n",
    "\n",
    "# conn = http.client.HTTPSConnection(\"api.ambeedata.com\")\n",
    "\n",
    "# headers = {\n",
    "#     'x-api-key': ambee_api_key,\n",
    "#     'Content-type': \"application/json\"\n",
    "# }\n",
    "\n",
    "# conn.request(\"GET\", \"/disasters/latest/by-country-code?countryCode=USA\", headers=headers)\n",
    "\n",
    "# res = conn.getresponse()\n",
    "# data = res.read()\n",
    "\n",
    "# test = (data.decode(\"utf-8\"))\n",
    "\n",
    "# pprint(test)"
   ]
  },
  {
   "cell_type": "markdown",
   "metadata": {},
   "source": [
    "# Test operations of Reliefweb\n",
    "\n",
    "https://api.reliefweb.int/v1/reports?appname=REPLACE-WITH-A-DOMAIN-OR-APP-NAME&limit=2\n",
    "\n",
    "- Scheme: \"https://\"\n",
    "- Host: \"api.reliefweb.int\"\n",
    "- Path: \"/v1/\" <content type> [ \"/\" <content id> ] \"?appname=\" <your-app-name>\n",
    "- Parameters: Parameters can be passed in the query of a GET request:"
   ]
  },
  {
   "cell_type": "code",
   "execution_count": 14,
   "metadata": {},
   "outputs": [
    {
     "ename": "SyntaxError",
     "evalue": "invalid syntax (1450797194.py, line 9)",
     "output_type": "error",
     "traceback": [
      "\u001b[0;36m  Cell \u001b[0;32mIn[14], line 9\u001b[0;36m\u001b[0m\n\u001b[0;31m    'Parameters': ['filter': {\u001b[0m\n\u001b[0m                           ^\u001b[0m\n\u001b[0;31mSyntaxError\u001b[0m\u001b[0;31m:\u001b[0m invalid syntax\n"
     ]
    }
   ],
   "source": [
    "# Test operations of Reliefweb\n",
    "\n",
    "# https://api.reliefweb.int/v1/reports?appname=REPLACE-WITH-A-DOMAIN-OR-APP-NAME&limit=2\n",
    "\n",
    "get_reliefweb = {\n",
    "    'Scheme': \"https://\",\n",
    "    'Host': \"api.reliefweb.int\",\n",
    "    'Path': \"/v1/\", # <content type> [ \"/\" <content id> ] \"?appname=\" <your-app-name>\n",
    "    'Parameters': ['filter': {\n",
    "        \"field\": \"country\",\n",
    "        \"value\": \"USA\"\n",
    "    }]\n",
    "}\n",
    "url = f\"{get_reliefweb['Scheme']}{get_reliefweb['Host']}{get_reliefweb['Path']}{get_reliefweb['Parameters']}\"\n",
    "response = requests.get(url).json()\n",
    "pprint(response)"
   ]
  },
  {
   "cell_type": "code",
   "execution_count": null,
   "metadata": {},
   "outputs": [],
   "source": []
  }
 ],
 "metadata": {
  "kernelspec": {
   "display_name": "dev",
   "language": "python",
   "name": "python3"
  },
  "language_info": {
   "codemirror_mode": {
    "name": "ipython",
    "version": 3
   },
   "file_extension": ".py",
   "mimetype": "text/x-python",
   "name": "python",
   "nbconvert_exporter": "python",
   "pygments_lexer": "ipython3",
   "version": "3.10.15"
  }
 },
 "nbformat": 4,
 "nbformat_minor": 2
}
