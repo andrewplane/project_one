{
 "cells": [
  {
   "cell_type": "code",
   "execution_count": 56,
   "metadata": {},
   "outputs": [],
   "source": [
    "# Dependencies and Setup\n",
    "import matplotlib.pyplot as plt\n",
    "import pandas as pd\n",
    "import numpy as np\n",
    "import requests\n",
    "import time\n",
    "import json\n",
    "from scipy.stats import linregress\n",
    "from pprint import pprint\n",
    "\n",
    "from config import ambee_api_key"
   ]
  },
  {
   "cell_type": "code",
   "execution_count": 59,
   "metadata": {},
   "outputs": [
    {
     "name": "stdout",
     "output_type": "stream",
     "text": [
      "{\"message\":\"success\",\"hasNextPage\":true,\"page\":1,\"limit\":10,\"result\":[{\"event_type\":\"EQ\",\"event_name\":\"CAPE GIRARDEAU, MISSOURI REGION\",\"date\":\"2024-10-31 15:00:00\",\"lat\":37.2935,\"continent\":\"nar\",\"created_time\":\"2024-11-01 02:50:36\",\"lng\":-89.155333,\"source_event_id\":\"11899053\",\"event_id\":\"67093b8ff3eea32a41c40c40\"},{\"event_type\":\"EQ\",\"event_name\":\"OKLAHOMA\",\"date\":\"2024-10-31 15:00:00\",\"lat\":35.715667,\"continent\":\"nar\",\"created_time\":\"2024-11-01 02:50:36\",\"lng\":-97.160167,\"source_event_id\":\"11899042\",\"event_id\":\"671efc33f3eea32a41e51504\"},{\"event_type\":\"DR\",\"event_name\":\"Drought in United States\",\"date\":\"2024-10-31 14:00:00\",\"lat\":38.500000000000014,\"continent\":\"nar\",\"created_time\":\"2024-11-01 02:50:36\",\"lng\":-80.99999999999999,\"source_event_id\":\"1017227\",\"event_id\":\"6707e9e5a3f2ec6969918c4f\"},{\"event_type\":\"EQ\",\"event_name\":\"MONTANA\",\"date\":\"2024-10-31 13:00:00\",\"lat\":47.561,\"continent\":\"nar\",\"created_time\":\"2024-11-01 02:50:36\",\"lng\":-113.923,\"source_event_id\":\"11899028\",\"event_id\":\"66c9eff0bb7a6d6726331337\"},{\"event_type\":\"EQ\",\"event_name\":\"HEBGEN LAKE REGION\",\"date\":\"2024-10-31 12:00:00\",\"lat\":44.859,\"continent\":\"nar\",\"created_time\":\"2024-11-01 02:50:36\",\"lng\":-111.393833,\"source_event_id\":\"11899026\",\"event_id\":\"66eb8e68bb7a6d67263c5f49\"},{\"event_type\":\"EQ\",\"event_name\":\"MONTANA\",\"date\":\"2024-10-31 10:00:00\",\"lat\":46.291833,\"continent\":\"nar\",\"created_time\":\"2024-11-01 02:50:36\",\"lng\":-113.038,\"source_event_id\":\"11899021\",\"event_id\":\"66d7c7a2bb7a6d672672d690\"},{\"event_type\":\"EQ\",\"event_name\":\"CENTRAL ALASKA\",\"date\":\"2024-10-31 08:00:00\",\"lat\":63.5538,\"continent\":\"nar\",\"created_time\":\"2024-11-01 02:50:36\",\"lng\":-147.3237,\"source_event_id\":\"11898969\",\"event_id\":\"66fa120cbb7a6d67269249ef\"},{\"event_type\":\"EQ\",\"event_name\":\"CENTRAL ALASKA\",\"date\":\"2024-10-31 04:00:00\",\"lat\":62.019,\"continent\":\"nar\",\"created_time\":\"2024-11-01 02:50:36\",\"lng\":-144.1207,\"source_event_id\":\"11898931\",\"event_id\":\"66cd3b9fbb7a6d67267e3506\"},{\"event_type\":\"EQ\",\"event_name\":\"NORTHERN ALASKA\",\"date\":\"2024-10-31 02:00:00\",\"lat\":65.736,\"continent\":\"nar\",\"created_time\":\"2024-11-01 02:50:36\",\"lng\":-145.0637,\"source_event_id\":\"11898908\",\"event_id\":\"67112348f3eea32a4188d8f3\"},{\"event_type\":\"EQ\",\"event_name\":\"Earthquake in \",\"date\":\"2024-10-30 20:00:00\",\"lat\":43.545833333333334,\"continent\":\"nar\",\"created_time\":\"2024-10-31 22:51:52\",\"lng\":-128.02519147983224,\"source_event_id\":\"1451416\",\"event_id\":\"6722b8c5f98b03e4dc57a970\"}]}\n",
      "('{\"message\":\"success\",\"hasNextPage\":true,\"page\":1,\"limit\":10,\"result\":[{\"event_type\":\"EQ\",\"event_name\":\"CAPE '\n",
      " 'GIRARDEAU, MISSOURI REGION\",\"date\":\"2024-10-31 '\n",
      " '15:00:00\",\"lat\":37.2935,\"continent\":\"nar\",\"created_time\":\"2024-11-01 '\n",
      " '02:50:36\",\"lng\":-89.155333,\"source_event_id\":\"11899053\",\"event_id\":\"67093b8ff3eea32a41c40c40\"},{\"event_type\":\"EQ\",\"event_name\":\"OKLAHOMA\",\"date\":\"2024-10-31 '\n",
      " '15:00:00\",\"lat\":35.715667,\"continent\":\"nar\",\"created_time\":\"2024-11-01 '\n",
      " '02:50:36\",\"lng\":-97.160167,\"source_event_id\":\"11899042\",\"event_id\":\"671efc33f3eea32a41e51504\"},{\"event_type\":\"DR\",\"event_name\":\"Drought '\n",
      " 'in United States\",\"date\":\"2024-10-31 '\n",
      " '14:00:00\",\"lat\":38.500000000000014,\"continent\":\"nar\",\"created_time\":\"2024-11-01 '\n",
      " '02:50:36\",\"lng\":-80.99999999999999,\"source_event_id\":\"1017227\",\"event_id\":\"6707e9e5a3f2ec6969918c4f\"},{\"event_type\":\"EQ\",\"event_name\":\"MONTANA\",\"date\":\"2024-10-31 '\n",
      " '13:00:00\",\"lat\":47.561,\"continent\":\"nar\",\"created_time\":\"2024-11-01 '\n",
      " '02:50:36\",\"lng\":-113.923,\"source_event_id\":\"11899028\",\"event_id\":\"66c9eff0bb7a6d6726331337\"},{\"event_type\":\"EQ\",\"event_name\":\"HEBGEN '\n",
      " 'LAKE REGION\",\"date\":\"2024-10-31 '\n",
      " '12:00:00\",\"lat\":44.859,\"continent\":\"nar\",\"created_time\":\"2024-11-01 '\n",
      " '02:50:36\",\"lng\":-111.393833,\"source_event_id\":\"11899026\",\"event_id\":\"66eb8e68bb7a6d67263c5f49\"},{\"event_type\":\"EQ\",\"event_name\":\"MONTANA\",\"date\":\"2024-10-31 '\n",
      " '10:00:00\",\"lat\":46.291833,\"continent\":\"nar\",\"created_time\":\"2024-11-01 '\n",
      " '02:50:36\",\"lng\":-113.038,\"source_event_id\":\"11899021\",\"event_id\":\"66d7c7a2bb7a6d672672d690\"},{\"event_type\":\"EQ\",\"event_name\":\"CENTRAL '\n",
      " 'ALASKA\",\"date\":\"2024-10-31 '\n",
      " '08:00:00\",\"lat\":63.5538,\"continent\":\"nar\",\"created_time\":\"2024-11-01 '\n",
      " '02:50:36\",\"lng\":-147.3237,\"source_event_id\":\"11898969\",\"event_id\":\"66fa120cbb7a6d67269249ef\"},{\"event_type\":\"EQ\",\"event_name\":\"CENTRAL '\n",
      " 'ALASKA\",\"date\":\"2024-10-31 '\n",
      " '04:00:00\",\"lat\":62.019,\"continent\":\"nar\",\"created_time\":\"2024-11-01 '\n",
      " '02:50:36\",\"lng\":-144.1207,\"source_event_id\":\"11898931\",\"event_id\":\"66cd3b9fbb7a6d67267e3506\"},{\"event_type\":\"EQ\",\"event_name\":\"NORTHERN '\n",
      " 'ALASKA\",\"date\":\"2024-10-31 '\n",
      " '02:00:00\",\"lat\":65.736,\"continent\":\"nar\",\"created_time\":\"2024-11-01 '\n",
      " '02:50:36\",\"lng\":-145.0637,\"source_event_id\":\"11898908\",\"event_id\":\"67112348f3eea32a4188d8f3\"},{\"event_type\":\"EQ\",\"event_name\":\"Earthquake '\n",
      " 'in \",\"date\":\"2024-10-30 '\n",
      " '20:00:00\",\"lat\":43.545833333333334,\"continent\":\"nar\",\"created_time\":\"2024-10-31 '\n",
      " '22:51:52\",\"lng\":-128.02519147983224,\"source_event_id\":\"1451416\",\"event_id\":\"6722b8c5f98b03e4dc57a970\"}]}')\n"
     ]
    }
   ],
   "source": [
    "import http.client\n",
    "\n",
    "conn = http.client.HTTPSConnection(\"api.ambeedata.com\")\n",
    "\n",
    "headers = {\n",
    "    'x-api-key': ambee_api_key,\n",
    "    'Content-type': \"application/json\"\n",
    "}\n",
    "\n",
    "conn.request(\"GET\", \"/disasters/latest/by-country-code?countryCode=USA\", headers=headers)\n",
    "\n",
    "res = conn.getresponse()\n",
    "data = res.read()\n",
    "\n",
    "test = (data.decode(\"utf-8\"))\n",
    "print(test)\n",
    "# print(json.dumps(test, indent=4, sort_keys=True))\n",
    "\n",
    "# df = pd.DataFrame(test)\n",
    "\n",
    "pprint(test)"
   ]
  }
 ],
 "metadata": {
  "kernelspec": {
   "display_name": "dev",
   "language": "python",
   "name": "python3"
  },
  "language_info": {
   "codemirror_mode": {
    "name": "ipython",
    "version": 3
   },
   "file_extension": ".py",
   "mimetype": "text/x-python",
   "name": "python",
   "nbconvert_exporter": "python",
   "pygments_lexer": "ipython3",
   "version": "3.10.15"
  }
 },
 "nbformat": 4,
 "nbformat_minor": 2
}
