{
 "cells": [
  {
   "cell_type": "code",
   "execution_count": 3,
   "metadata": {},
   "outputs": [],
   "source": [
    "# Dependencies and Setup\n",
    "import matplotlib.pyplot as plt\n",
    "import pandas as pd\n",
    "import numpy as np\n",
    "import requests\n",
    "import time\n",
    "import json\n",
    "from scipy.stats import linregress\n",
    "from pprint import pprint\n",
    "\n",
    "from config import ambee_api_key"
   ]
  },
  {
   "cell_type": "code",
   "execution_count": 4,
   "metadata": {},
   "outputs": [
    {
     "name": "stdout",
     "output_type": "stream",
     "text": [
      "('{\"message\":\"success\",\"hasNextPage\":true,\"page\":1,\"limit\":10,\"result\":[{\"event_type\":\"EQ\",\"event_name\":\"CENTRAL '\n",
      " 'ALASKA\",\"date\":\"2024-11-04 '\n",
      " '23:00:00\",\"lat\":63.2315,\"continent\":\"nar\",\"created_time\":\"2024-11-05 '\n",
      " '02:50:30\",\"lng\":-142.8209,\"source_event_id\":\"11900182\",\"event_id\":\"66ea3c84bb7a6d67261d2dcc\"},{\"event_type\":\"EQ\",\"event_name\":\"CALIFORNIA-NEVADA '\n",
      " 'BORDER REGION\",\"date\":\"2024-11-04 '\n",
      " '21:00:00\",\"lat\":36.5473,\"continent\":\"nar\",\"created_time\":\"2024-11-05 '\n",
      " '02:50:30\",\"lng\":-115.1972,\"source_event_id\":\"11900120\",\"event_id\":\"66c703c372c3d1a4e410aa62\"},{\"event_type\":\"EQ\",\"event_name\":\"WASHINGTON\",\"date\":\"2024-11-04 '\n",
      " '21:00:00\",\"lat\":47.895667,\"continent\":\"nar\",\"created_time\":\"2024-11-05 '\n",
      " '02:50:30\",\"lng\":-122.039833,\"source_event_id\":\"11900155\",\"event_id\":\"6715893ef3eea32a41f224c4\"},{\"event_type\":\"TC\",\"event_name\":\"Tropical '\n",
      " 'Cyclone RAFAEL-24\",\"date\":\"2024-11-04 '\n",
      " '21:00:00\",\"lat\":27.40073601511491,\"continent\":\"nar\",\"created_time\":\"2024-11-05 '\n",
      " '02:50:30\",\"lng\":-89.4,\"source_event_id\":\"1001122\",\"event_id\":\"67294fdef98b03e4dcf921c7\"},{\"event_type\":\"EQ\",\"event_name\":\"CENTRAL '\n",
      " 'CALIFORNIA\",\"date\":\"2024-11-04 '\n",
      " '16:00:00\",\"lat\":37.729668,\"continent\":\"nar\",\"created_time\":\"2024-11-05 '\n",
      " '02:50:30\",\"lng\":-122.54483,\"source_event_id\":\"11900028\",\"event_id\":\"66c7043372c3d1a4e41798bd\"},{\"event_type\":\"EQ\",\"event_name\":\"NORTHERN '\n",
      " 'ALASKA\",\"date\":\"2024-11-04 '\n",
      " '16:00:00\",\"lat\":66.445,\"continent\":\"nar\",\"created_time\":\"2024-11-05 '\n",
      " '02:50:30\",\"lng\":-145.9869,\"source_event_id\":\"11900036\",\"event_id\":\"67294fdef98b03e4dcf923a8\"},{\"event_type\":\"EQ\",\"event_name\":\"MONTANA\",\"date\":\"2024-11-04 '\n",
      " '14:00:00\",\"lat\":45.7245,\"continent\":\"nar\",\"created_time\":\"2024-11-05 '\n",
      " '02:50:30\",\"lng\":-112.828667,\"source_event_id\":\"11900083\",\"event_id\":\"66d7c7a2bb7a6d672672d690\"},{\"event_type\":\"EQ\",\"event_name\":\"UTAH\",\"date\":\"2024-11-04 '\n",
      " '12:00:00\",\"lat\":38.167167,\"continent\":\"nar\",\"created_time\":\"2024-11-05 '\n",
      " '02:50:30\",\"lng\":-112.544333,\"source_event_id\":\"11900002\",\"event_id\":\"66c7041b72c3d1a4e41617d2\"},{\"event_type\":\"EQ\",\"event_name\":\"CENTRAL '\n",
      " 'ALASKA\",\"date\":\"2024-11-04 '\n",
      " '12:00:00\",\"lat\":63.5284,\"continent\":\"nar\",\"created_time\":\"2024-11-05 '\n",
      " '02:50:30\",\"lng\":-145.1867,\"source_event_id\":\"11899988\",\"event_id\":\"66de5ed2bb7a6d672608d34e\"},{\"event_type\":\"EQ\",\"event_name\":\"CENTRAL '\n",
      " 'ALASKA\",\"date\":\"2024-11-04 '\n",
      " '11:00:00\",\"lat\":64.7635,\"continent\":\"nar\",\"created_time\":\"2024-11-05 '\n",
      " '02:50:30\",\"lng\":-149.1894,\"source_event_id\":\"11899980\",\"event_id\":\"66c703c372c3d1a4e410acfd\"}]}')\n"
     ]
    }
   ],
   "source": [
    "# Test operations of Ambee\n",
    "\n",
    "import http.client\n",
    "\n",
    "conn = http.client.HTTPSConnection(\"api.ambeedata.com\")\n",
    "\n",
    "headers = {\n",
    "    'x-api-key': ambee_api_key,\n",
    "    'Content-type': \"application/json\"\n",
    "}\n",
    "\n",
    "conn.request(\"GET\", \"/disasters/latest/by-country-code?countryCode=USA\", headers=headers)\n",
    "\n",
    "res = conn.getresponse()\n",
    "data = res.read()\n",
    "\n",
    "test = (data.decode(\"utf-8\"))\n",
    "\n",
    "pprint(test)"
   ]
  },
  {
   "cell_type": "markdown",
   "metadata": {},
   "source": [
    "# Test operations of Reliefweb\n",
    "\n",
    "https://api.reliefweb.int/v1/reports?appname=REPLACE-WITH-A-DOMAIN-OR-APP-NAME&limit=2\n",
    "\n",
    "- Scheme: \"https://\"\n",
    "- Host: \"api.reliefweb.int\"\n",
    "- Path: \"/v1/\" <content type> [ \"/\" <content id> ] \"?appname=\" <your-app-name>\n",
    "- Parameters: Parameters can be passed in the query of a GET request:"
   ]
  },
  {
   "cell_type": "code",
   "execution_count": 1,
   "metadata": {},
   "outputs": [
    {
     "ename": "SyntaxError",
     "evalue": "invalid syntax (3799971226.py, line 9)",
     "output_type": "error",
     "traceback": [
      "\u001b[0;36m  Cell \u001b[0;32mIn[1], line 9\u001b[0;36m\u001b[0m\n\u001b[0;31m    'Parameters': ['filter': {\u001b[0m\n\u001b[0m                           ^\u001b[0m\n\u001b[0;31mSyntaxError\u001b[0m\u001b[0;31m:\u001b[0m invalid syntax\n"
     ]
    }
   ],
   "source": [
    "# Test operations of Reliefweb\n",
    "\n",
    "# https://api.reliefweb.int/v1/reports?appname=REPLACE-WITH-A-DOMAIN-OR-APP-NAME&limit=2\n",
    "\n",
    "get_reliefweb = {\n",
    "    'Scheme': \"https://\",\n",
    "    'Host': \"api.reliefweb.int\",\n",
    "    'Path': \"/v1/\", # <content type> [ \"/\" <content id> ] \"?appname=\" <your-app-name>\n",
    "    'Parameters': ['filter': {\n",
    "        \"field\": \"country\",\n",
    "        \"value\": \"USA\"}]\n",
    "}\n",
    "url = f\"{get_reliefweb['Scheme']}{get_reliefweb['Host']}{get_reliefweb['Path']}{get_reliefweb['Parameters']}\"\n",
    "response = requests.get(url).json()\n",
    "pprint(response)"
   ]
  },
  {
   "cell_type": "code",
   "execution_count": null,
   "metadata": {},
   "outputs": [],
   "source": []
  }
 ],
 "metadata": {
  "kernelspec": {
   "display_name": "dev",
   "language": "python",
   "name": "python3"
  },
  "language_info": {
   "codemirror_mode": {
    "name": "ipython",
    "version": 3
   },
   "file_extension": ".py",
   "mimetype": "text/x-python",
   "name": "python",
   "nbconvert_exporter": "python",
   "pygments_lexer": "ipython3",
   "version": "3.10.15"
  }
 },
 "nbformat": 4,
 "nbformat_minor": 2
}
